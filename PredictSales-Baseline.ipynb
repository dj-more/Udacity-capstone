{
 "cells": [
  {
   "cell_type": "markdown",
   "metadata": {},
   "source": [
    "## Kaggle - Predict Future Sales\n",
    "### Benchmark Model - using Facebook Prophet Forecasting tool\n",
    "### and Moving Average"
   ]
  },
  {
   "cell_type": "code",
   "execution_count": 56,
   "metadata": {},
   "outputs": [],
   "source": [
    "import pandas as pd\n",
    "import numpy as np\n",
    "import sys\n",
    "from matplotlib import pyplot as plt\n",
    "from fbprophet import Prophet\n",
    "\n",
    "stdout = sys.stdout\n",
    "\n",
    "#sales_train = pd.read_csv(\"/Users/djmore/Udacity/machine-learning/projects/capstone/sales_train.csv\", sep =',', skiprows=[1,220000], nrows = 100000)\n",
    "\n",
    "sales_train     = pd.read_csv(\"/Users/djmore/Udacity/machine-learning/projects/capstone/sales_train.csv\", sep =',')\n",
    "items           = pd.read_csv('/Users/djmore/Udacity/machine-learning/projects/capstone/items.csv')\n",
    "item_categories = pd.read_csv('/Users/djmore/Udacity/machine-learning/projects/capstone/item_categories.csv')\n",
    "shops           = pd.read_csv('/Users/djmore/Udacity/machine-learning/projects/capstone/shops.csv')\n",
    "test            = pd.read_csv('/Users/djmore/Udacity/machine-learning/projects/capstone/test.csv')\n",
    "\n",
    "sales_data           = pd.DataFrame(sales_train)\n",
    "items_data           = pd.DataFrame(items)\n",
    "item_categories_data = pd.DataFrame(item_categories)\n",
    "shops_data           = pd.DataFrame(shops)\n",
    "kaggle_data          = pd.DataFrame(test)"
   ]
  },
  {
   "cell_type": "code",
   "execution_count": 57,
   "metadata": {},
   "outputs": [],
   "source": [
    "# Convert date field to datetime field in pandas\n",
    "sales_data['date'] = pd.to_datetime(sales_data['date'])\n",
    "\n",
    "# Extract out date features and add it to sales_data DataFrame\n",
    "sales_data['year'] = sales_data['date'].dt.year\n",
    "sales_data['month'] = sales_data['date'].dt.month\n",
    "sales_data['day'] = sales_data['date'].dt.day\n",
    "\n",
    "sales_data['dayofyear'] = sales_data['date'].dt.dayofyear\n",
    "sales_data['weekofyear'] = sales_data['date'].dt.weekofyear\n",
    "sales_data['dayofweek'] = sales_data['date'].dt.dayofweek\n",
    "sales_data['quarter'] = sales_data['date'].dt.quarter\n",
    "\n",
    "# Sort data in ascending order of time series - year, month,and day\n",
    "sales_data.sort_values(['date_block_num','date'], ascending=[True,True],inplace=True)"
   ]
  },
  {
   "cell_type": "markdown",
   "metadata": {},
   "source": [
    "## Predict next month sales using\n",
    "### FB Prophet forecasting tool"
   ]
  },
  {
   "cell_type": "code",
   "execution_count": 58,
   "metadata": {},
   "outputs": [],
   "source": [
    "# Let's prepare the date column with 33 months of date sequence.\n",
    "date_sequence=['01/01/2013','01/02/2013',\n",
    "     '01/03/2013',\n",
    "     '01/04/2013',\n",
    "     '01/05/2013',\n",
    "     '01/06/2013',\n",
    "     '01/07/2013',\n",
    "     '01/08/2013',\n",
    "     '01/09/2013',\n",
    "     '01/10/2013',\n",
    "     '01/11/2013',\n",
    "     '01/12/2013',\n",
    "     '01/01/2014',\n",
    "     '01/02/2014',\n",
    "     '01/03/2014',\n",
    "     '01/04/2014',\n",
    "     '01/05/2014',\n",
    "     '01/06/2014',\n",
    "     '01/07/2014',\n",
    "     '01/08/2014',\n",
    "     '01/09/2014',\n",
    "     '01/10/2014',\n",
    "     '01/11/2014',\n",
    "     '01/12/2014',\n",
    "     '01/01/2015',\n",
    "     '01/02/2015',\n",
    "     '01/03/2015',\n",
    "     '01/04/2015',\n",
    "     '01/05/2015',\n",
    "     '01/06/2015',\n",
    "     '01/07/2015',\n",
    "     '01/08/2015',\n",
    "     '01/09/2015',\n",
    "     '01/10/2015']"
   ]
  },
  {
   "cell_type": "markdown",
   "metadata": {},
   "source": [
    "## FB prophet reqiures a pandas dataframe with \n",
    "## date column named as DS and the value column as Y"
   ]
  },
  {
   "cell_type": "code",
   "execution_count": 59,
   "metadata": {},
   "outputs": [
    {
     "data": {
      "text/html": [
       "<div>\n",
       "<style scoped>\n",
       "    .dataframe tbody tr th:only-of-type {\n",
       "        vertical-align: middle;\n",
       "    }\n",
       "\n",
       "    .dataframe tbody tr th {\n",
       "        vertical-align: top;\n",
       "    }\n",
       "\n",
       "    .dataframe thead th {\n",
       "        text-align: right;\n",
       "    }\n",
       "</style>\n",
       "<table border=\"1\" class=\"dataframe\">\n",
       "  <thead>\n",
       "    <tr style=\"text-align: right;\">\n",
       "      <th></th>\n",
       "      <th>ds</th>\n",
       "      <th>y</th>\n",
       "    </tr>\n",
       "  </thead>\n",
       "  <tbody>\n",
       "    <tr>\n",
       "      <th>0</th>\n",
       "      <td>2013-01-01</td>\n",
       "      <td>131479.0</td>\n",
       "    </tr>\n",
       "    <tr>\n",
       "      <th>1</th>\n",
       "      <td>2013-02-01</td>\n",
       "      <td>128090.0</td>\n",
       "    </tr>\n",
       "    <tr>\n",
       "      <th>2</th>\n",
       "      <td>2013-03-01</td>\n",
       "      <td>147142.0</td>\n",
       "    </tr>\n",
       "    <tr>\n",
       "      <th>3</th>\n",
       "      <td>2013-04-01</td>\n",
       "      <td>107190.0</td>\n",
       "    </tr>\n",
       "    <tr>\n",
       "      <th>4</th>\n",
       "      <td>2013-05-01</td>\n",
       "      <td>106970.0</td>\n",
       "    </tr>\n",
       "    <tr>\n",
       "      <th>5</th>\n",
       "      <td>2013-06-01</td>\n",
       "      <td>125381.0</td>\n",
       "    </tr>\n",
       "    <tr>\n",
       "      <th>6</th>\n",
       "      <td>2013-07-01</td>\n",
       "      <td>116966.0</td>\n",
       "    </tr>\n",
       "    <tr>\n",
       "      <th>7</th>\n",
       "      <td>2013-08-01</td>\n",
       "      <td>125291.0</td>\n",
       "    </tr>\n",
       "    <tr>\n",
       "      <th>8</th>\n",
       "      <td>2013-09-01</td>\n",
       "      <td>133332.0</td>\n",
       "    </tr>\n",
       "    <tr>\n",
       "      <th>9</th>\n",
       "      <td>2013-10-01</td>\n",
       "      <td>127541.0</td>\n",
       "    </tr>\n",
       "    <tr>\n",
       "      <th>10</th>\n",
       "      <td>2013-11-01</td>\n",
       "      <td>130009.0</td>\n",
       "    </tr>\n",
       "    <tr>\n",
       "      <th>11</th>\n",
       "      <td>2013-12-01</td>\n",
       "      <td>183342.0</td>\n",
       "    </tr>\n",
       "    <tr>\n",
       "      <th>12</th>\n",
       "      <td>2014-01-01</td>\n",
       "      <td>116899.0</td>\n",
       "    </tr>\n",
       "    <tr>\n",
       "      <th>13</th>\n",
       "      <td>2014-02-01</td>\n",
       "      <td>109687.0</td>\n",
       "    </tr>\n",
       "    <tr>\n",
       "      <th>14</th>\n",
       "      <td>2014-03-01</td>\n",
       "      <td>115297.0</td>\n",
       "    </tr>\n",
       "    <tr>\n",
       "      <th>15</th>\n",
       "      <td>2014-04-01</td>\n",
       "      <td>96556.0</td>\n",
       "    </tr>\n",
       "    <tr>\n",
       "      <th>16</th>\n",
       "      <td>2014-05-01</td>\n",
       "      <td>97790.0</td>\n",
       "    </tr>\n",
       "    <tr>\n",
       "      <th>17</th>\n",
       "      <td>2014-06-01</td>\n",
       "      <td>97429.0</td>\n",
       "    </tr>\n",
       "    <tr>\n",
       "      <th>18</th>\n",
       "      <td>2014-07-01</td>\n",
       "      <td>91280.0</td>\n",
       "    </tr>\n",
       "    <tr>\n",
       "      <th>19</th>\n",
       "      <td>2014-08-01</td>\n",
       "      <td>102721.0</td>\n",
       "    </tr>\n",
       "    <tr>\n",
       "      <th>20</th>\n",
       "      <td>2014-09-01</td>\n",
       "      <td>99208.0</td>\n",
       "    </tr>\n",
       "    <tr>\n",
       "      <th>21</th>\n",
       "      <td>2014-10-01</td>\n",
       "      <td>107422.0</td>\n",
       "    </tr>\n",
       "    <tr>\n",
       "      <th>22</th>\n",
       "      <td>2014-11-01</td>\n",
       "      <td>117845.0</td>\n",
       "    </tr>\n",
       "    <tr>\n",
       "      <th>23</th>\n",
       "      <td>2014-12-01</td>\n",
       "      <td>168755.0</td>\n",
       "    </tr>\n",
       "    <tr>\n",
       "      <th>24</th>\n",
       "      <td>2015-01-01</td>\n",
       "      <td>110971.0</td>\n",
       "    </tr>\n",
       "    <tr>\n",
       "      <th>25</th>\n",
       "      <td>2015-02-01</td>\n",
       "      <td>84198.0</td>\n",
       "    </tr>\n",
       "    <tr>\n",
       "      <th>26</th>\n",
       "      <td>2015-03-01</td>\n",
       "      <td>82014.0</td>\n",
       "    </tr>\n",
       "    <tr>\n",
       "      <th>27</th>\n",
       "      <td>2015-04-01</td>\n",
       "      <td>77827.0</td>\n",
       "    </tr>\n",
       "    <tr>\n",
       "      <th>28</th>\n",
       "      <td>2015-05-01</td>\n",
       "      <td>72295.0</td>\n",
       "    </tr>\n",
       "    <tr>\n",
       "      <th>29</th>\n",
       "      <td>2015-06-01</td>\n",
       "      <td>64114.0</td>\n",
       "    </tr>\n",
       "    <tr>\n",
       "      <th>30</th>\n",
       "      <td>2015-07-01</td>\n",
       "      <td>63187.0</td>\n",
       "    </tr>\n",
       "    <tr>\n",
       "      <th>31</th>\n",
       "      <td>2015-08-01</td>\n",
       "      <td>66079.0</td>\n",
       "    </tr>\n",
       "    <tr>\n",
       "      <th>32</th>\n",
       "      <td>2015-09-01</td>\n",
       "      <td>72843.0</td>\n",
       "    </tr>\n",
       "    <tr>\n",
       "      <th>33</th>\n",
       "      <td>2015-10-01</td>\n",
       "      <td>71056.0</td>\n",
       "    </tr>\n",
       "  </tbody>\n",
       "</table>\n",
       "</div>"
      ],
      "text/plain": [
       "           ds         y\n",
       "0  2013-01-01  131479.0\n",
       "1  2013-02-01  128090.0\n",
       "2  2013-03-01  147142.0\n",
       "3  2013-04-01  107190.0\n",
       "4  2013-05-01  106970.0\n",
       "5  2013-06-01  125381.0\n",
       "6  2013-07-01  116966.0\n",
       "7  2013-08-01  125291.0\n",
       "8  2013-09-01  133332.0\n",
       "9  2013-10-01  127541.0\n",
       "10 2013-11-01  130009.0\n",
       "11 2013-12-01  183342.0\n",
       "12 2014-01-01  116899.0\n",
       "13 2014-02-01  109687.0\n",
       "14 2014-03-01  115297.0\n",
       "15 2014-04-01   96556.0\n",
       "16 2014-05-01   97790.0\n",
       "17 2014-06-01   97429.0\n",
       "18 2014-07-01   91280.0\n",
       "19 2014-08-01  102721.0\n",
       "20 2014-09-01   99208.0\n",
       "21 2014-10-01  107422.0\n",
       "22 2014-11-01  117845.0\n",
       "23 2014-12-01  168755.0\n",
       "24 2015-01-01  110971.0\n",
       "25 2015-02-01   84198.0\n",
       "26 2015-03-01   82014.0\n",
       "27 2015-04-01   77827.0\n",
       "28 2015-05-01   72295.0\n",
       "29 2015-06-01   64114.0\n",
       "30 2015-07-01   63187.0\n",
       "31 2015-08-01   66079.0\n",
       "32 2015-09-01   72843.0\n",
       "33 2015-10-01   71056.0"
      ]
     },
     "metadata": {},
     "output_type": "display_data"
    }
   ],
   "source": [
    "date_sequence=pd.DataFrame(date_sequence,columns=['ds'])\n",
    "ts1=pd.DataFrame(sales_data.groupby([\"date_block_num\"])[\"item_cnt_day\"].sum().reset_index())\n",
    "\n",
    "ts1 = pd.concat([date_sequence,ts1], axis=1)\n",
    "ts  = ts1.rename(columns={'item_cnt_day':'y'})\n",
    "ts.drop(['date_block_num'], 1, inplace=True)\n",
    "ts['ds'] = pd.to_datetime(ts['ds'],format='%d/%m/%Y')\n",
    "display(ts)"
   ]
  },
  {
   "cell_type": "code",
   "execution_count": 60,
   "metadata": {},
   "outputs": [
    {
     "name": "stderr",
     "output_type": "stream",
     "text": [
      "INFO:fbprophet.forecaster:Disabling weekly seasonality. Run prophet with weekly_seasonality=True to override this.\n",
      "INFO:fbprophet.forecaster:Disabling daily seasonality. Run prophet with daily_seasonality=True to override this.\n",
      "INFO:fbprophet.forecaster:n_changepoints greater than number of observations.Using 21.0.\n",
      "/Users/djmore/anaconda3/envs/py3/lib/python3.6/site-packages/fbprophet/forecaster.py:353: DeprecationWarning: object of type <class 'numpy.float64'> cannot be safely interpreted as an integer.\n",
      "  np.linspace(0, hist_size - 1, self.n_changepoints + 1)\n"
     ]
    },
    {
     "name": "stdout",
     "output_type": "stream",
     "text": [
      "\n",
      "FB Prophet predicted forecast for next 6 months\n"
     ]
    },
    {
     "data": {
      "text/html": [
       "<div>\n",
       "<style scoped>\n",
       "    .dataframe tbody tr th:only-of-type {\n",
       "        vertical-align: middle;\n",
       "    }\n",
       "\n",
       "    .dataframe tbody tr th {\n",
       "        vertical-align: top;\n",
       "    }\n",
       "\n",
       "    .dataframe thead th {\n",
       "        text-align: right;\n",
       "    }\n",
       "</style>\n",
       "<table border=\"1\" class=\"dataframe\">\n",
       "  <thead>\n",
       "    <tr style=\"text-align: right;\">\n",
       "      <th></th>\n",
       "      <th>ds</th>\n",
       "      <th>y</th>\n",
       "      <th>ds</th>\n",
       "      <th>yhat</th>\n",
       "      <th>yhat_lower</th>\n",
       "      <th>yhat_upper</th>\n",
       "    </tr>\n",
       "  </thead>\n",
       "  <tbody>\n",
       "    <tr>\n",
       "      <th>28</th>\n",
       "      <td>2015-05-01</td>\n",
       "      <td>72295.0</td>\n",
       "      <td>2015-05-01</td>\n",
       "      <td>91707.835518</td>\n",
       "      <td>89595.437808</td>\n",
       "      <td>93790.521202</td>\n",
       "    </tr>\n",
       "    <tr>\n",
       "      <th>29</th>\n",
       "      <td>2015-06-01</td>\n",
       "      <td>64114.0</td>\n",
       "      <td>2015-06-01</td>\n",
       "      <td>78268.727692</td>\n",
       "      <td>76120.183013</td>\n",
       "      <td>80282.137523</td>\n",
       "    </tr>\n",
       "    <tr>\n",
       "      <th>30</th>\n",
       "      <td>2015-07-01</td>\n",
       "      <td>63187.0</td>\n",
       "      <td>2015-07-01</td>\n",
       "      <td>74215.509333</td>\n",
       "      <td>72056.569330</td>\n",
       "      <td>76343.085919</td>\n",
       "    </tr>\n",
       "    <tr>\n",
       "      <th>31</th>\n",
       "      <td>2015-08-01</td>\n",
       "      <td>66079.0</td>\n",
       "      <td>2015-08-01</td>\n",
       "      <td>86823.047763</td>\n",
       "      <td>84652.968484</td>\n",
       "      <td>88945.263110</td>\n",
       "    </tr>\n",
       "    <tr>\n",
       "      <th>32</th>\n",
       "      <td>2015-09-01</td>\n",
       "      <td>72843.0</td>\n",
       "      <td>2015-09-01</td>\n",
       "      <td>72372.460973</td>\n",
       "      <td>70193.783424</td>\n",
       "      <td>74492.770835</td>\n",
       "    </tr>\n",
       "    <tr>\n",
       "      <th>33</th>\n",
       "      <td>2015-10-01</td>\n",
       "      <td>71056.0</td>\n",
       "      <td>2015-10-01</td>\n",
       "      <td>90016.653439</td>\n",
       "      <td>87659.851197</td>\n",
       "      <td>92123.859702</td>\n",
       "    </tr>\n",
       "  </tbody>\n",
       "</table>\n",
       "</div>"
      ],
      "text/plain": [
       "           ds        y         ds          yhat    yhat_lower    yhat_upper\n",
       "28 2015-05-01  72295.0 2015-05-01  91707.835518  89595.437808  93790.521202\n",
       "29 2015-06-01  64114.0 2015-06-01  78268.727692  76120.183013  80282.137523\n",
       "30 2015-07-01  63187.0 2015-07-01  74215.509333  72056.569330  76343.085919\n",
       "31 2015-08-01  66079.0 2015-08-01  86823.047763  84652.968484  88945.263110\n",
       "32 2015-09-01  72843.0 2015-09-01  72372.460973  70193.783424  74492.770835\n",
       "33 2015-10-01  71056.0 2015-10-01  90016.653439  87659.851197  92123.859702"
      ]
     },
     "metadata": {},
     "output_type": "display_data"
    }
   ],
   "source": [
    "model = Prophet(yearly_seasonality=True)  \n",
    "\n",
    "# We will use first 28 values for training and last 6 for predict and calculating accuracy.\n",
    "model.fit(ts[:-6]) \n",
    "\n",
    "# predict for next six months in the furure \n",
    "future = model.make_future_dataframe(periods = 6, freq = 'MS')  \n",
    "\n",
    "# now lets make the forecasts\n",
    "forecast = model.predict(future)\n",
    "print('')\n",
    "print('FB Prophet predicted forecast for next 6 months')\n",
    "prophet_y = pd.DataFrame(forecast[['ds', 'yhat', 'yhat_lower', 'yhat_upper']])\n",
    "#display(prophet_y)\n",
    "\n",
    "final_actual_prediction = pd.concat([ts,prophet_y],axis=1)\n",
    "display(final_actual_prediction[28:34])"
   ]
  },
  {
   "cell_type": "code",
   "execution_count": 78,
   "metadata": {},
   "outputs": [],
   "source": [
    "## Calculate RMSE using actual y and predicted yhat\n",
    "\n",
    "error = 0\n",
    "for i in (final_actual_prediction[28:]['y']-final_actual_prediction[28:]['yhat']):\n",
    "    error = error + (i*i)\n",
    "\n",
    "RMSE = round(np.sqrt(error/6))"
   ]
  },
  {
   "cell_type": "code",
   "execution_count": 79,
   "metadata": {},
   "outputs": [
    {
     "name": "stdout",
     "output_type": "stream",
     "text": [
      "Prophet RMSE = 15753.0\n"
     ]
    }
   ],
   "source": [
    "print('Prophet RMSE = {}'.format(round(RMSE)))"
   ]
  },
  {
   "cell_type": "code",
   "execution_count": 64,
   "metadata": {},
   "outputs": [
    {
     "data": {
      "image/png": "[encoded data removed]",
      "text/plain": [
       "<matplotlib.figure.Figure at 0x11b324320>"
      ]
     },
     "execution_count": 64,
     "metadata": {},
     "output_type": "execute_result"
    },
    {
     "data": {
      "image/png": "[encoded data removed]",
      "text/plain": [
       "<matplotlib.figure.Figure at 0x11b324320>"
      ]
     },
     "metadata": {},
     "output_type": "display_data"
    }
   ],
   "source": [
    "model.plot(forecast)"
   ]
  },
  {
   "cell_type": "markdown",
   "metadata": {},
   "source": [
    "### Let's calculate Moving Average using a window of 3 months"
   ]
  },
  {
   "cell_type": "code",
   "execution_count": 80,
   "metadata": {},
   "outputs": [
    {
     "data": {
      "text/plain": [
       "0               NaN\n",
       "1               NaN\n",
       "2     135570.333333\n",
       "3     127474.000000\n",
       "4     120434.000000\n",
       "5     113180.333333\n",
       "6     116439.000000\n",
       "7     122546.000000\n",
       "8     125196.333333\n",
       "9     128721.333333\n",
       "10    130294.000000\n",
       "11    146964.000000\n",
       "12    143416.666667\n",
       "13    136642.666667\n",
       "14    113961.000000\n",
       "15    107180.000000\n",
       "16    103214.333333\n",
       "17     97258.333333\n",
       "18     95499.666667\n",
       "19     97143.333333\n",
       "20     97736.333333\n",
       "21    103117.000000\n",
       "22    108158.333333\n",
       "23    131340.666667\n",
       "24    132523.666667\n",
       "25    121308.000000\n",
       "26     92394.333333\n",
       "27     81346.333333\n",
       "28     77378.666667\n",
       "29     71412.000000\n",
       "30     66532.000000\n",
       "31     64460.000000\n",
       "32     67369.666667\n",
       "33     69992.666667\n",
       "Name: y, dtype: float64"
      ]
     },
     "metadata": {},
     "output_type": "display_data"
    }
   ],
   "source": [
    "## Monthly Sales\n",
    "## Moving Average - using a window of 2 months\n",
    "\n",
    "display(ts['y'].rolling(window=3).mean())\n",
    "mv_y = ts['y'].rolling(window=3).mean().reset_index()"
   ]
  },
  {
   "cell_type": "code",
   "execution_count": 81,
   "metadata": {},
   "outputs": [
    {
     "name": "stdout",
     "output_type": "stream",
     "text": [
      "Predicted Item Sales for 35th month based on 2 month moving average 68681.0\n"
     ]
    }
   ],
   "source": [
    "Moving_Average = ts['y'].rolling(window=3).mean().tail(2).sum()/2\n",
    "print('Predicted Item Sales for 35th month based on 2 month moving average {}'.format(round(Moving_Average)))"
   ]
  },
  {
   "cell_type": "code",
   "execution_count": 89,
   "metadata": {},
   "outputs": [],
   "source": [
    "## Calculate RMSE using actual y and predicted moving average for last 6 months.\n",
    "\n",
    "error = 0\n",
    "for i in (mv_y[28:34]['y']-ts[28:34]['y']):\n",
    "    error = error + (i*i)\n",
    "\n",
    "MAE = round(np.sqrt(error/6))"
   ]
  },
  {
   "cell_type": "code",
   "execution_count": 90,
   "metadata": {},
   "outputs": [
    {
     "name": "stdout",
     "output_type": "stream",
     "text": [
      "Moving Average MAE = 4546.0\n"
     ]
    }
   ],
   "source": [
    "print('Moving Average MAE = {}'.format(round(RMSE)))"
   ]
  },
  {
   "cell_type": "code",
   "execution_count": null,
   "metadata": {},
   "outputs": [],
   "source": []
  }
 ],
 "metadata": {
  "kernelspec": {
   "display_name": "Python 3",
   "language": "python",
   "name": "python3"
  },
  "language_info": {
   "codemirror_mode": {
    "name": "ipython",
    "version": 3
   },
   "file_extension": ".py",
   "mimetype": "text/x-python",
   "name": "python",
   "nbconvert_exporter": "python",
   "pygments_lexer": "ipython3",
   "version": "3.6.4"
  }
 },
 "nbformat": 4,
 "nbformat_minor": 2
}
