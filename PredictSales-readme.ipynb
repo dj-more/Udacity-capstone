{
 "cells": [
  {
   "cell_type": "code",
   "execution_count": null,
   "metadata": {},
   "outputs": [],
   "source": [
    "The project is based on a dataset that is publicly available by courtesy of Kaggle. \n",
    "It was published by Coursera - \"How to win data science competition\".\n",
    "\n",
    "Dataset is available at this url: https://www.kaggle.com/c/competitive-data-science-predict-future-sales\n",
    "    sales_train.csv\n",
    "    items.csv\n",
    "    item_categories.csv\n",
    "    shops.csv\n",
    "    test.csv\n",
    "    \n",
    "    \n",
    "Python Libraries used\n",
    "\n",
    "- pandas\n",
    "- numpy\n",
    "- matplotlib\n",
    "- seaborn\n",
    "- sklearn\n",
    "- keras\n",
    "- tensorflow\n",
    "- fbprophet Prophet (Univariate forecasting python library published by Facebook)\n",
    "\n",
    "There are three notebooks for the work done in this project\n",
    "\n",
    "1. PredictSales - Exploration\n",
    "2. PredictSales - Baseline\n",
    "3. PredictSales - DeepNeuralNet\n",
    "\n",
    "Hardware: I worked on this project on macbook pro - i5, 8Gb Memory.\n",
    "Dev environment Anaconda 2, 64-bit Python v3.6"
   ]
  }
 ],
 "metadata": {
  "kernelspec": {
   "display_name": "Python 3",
   "language": "python",
   "name": "python3"
  },
  "language_info": {
   "codemirror_mode": {
    "name": "ipython",
    "version": 3
   },
   "file_extension": ".py",
   "mimetype": "text/x-python",
   "name": "python",
   "nbconvert_exporter": "python",
   "pygments_lexer": "ipython3",
   "version": "3.6.4"
  }
 },
 "nbformat": 4,
 "nbformat_minor": 2
}
